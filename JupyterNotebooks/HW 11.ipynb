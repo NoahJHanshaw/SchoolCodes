{
 "cells": [
  {
   "cell_type": "code",
   "execution_count": 1,
   "metadata": {
    "executionInfo": {
     "elapsed": 805,
     "status": "ok",
     "timestamp": 1633461614667,
     "user": {
      "displayName": "Noah Hanshaw",
      "photoUrl": "https://lh3.googleusercontent.com/a/default-user=s64",
      "userId": "08919860699327965040"
     },
     "user_tz": 300
    },
    "id": "Hr7LDhAz3dxy"
   },
   "outputs": [],
   "source": [
    "import os\n",
    "import pandas as pd\n",
    "import numpy as np\n",
    "import sklearn\n",
    "%matplotlib inline\n",
    "import matplotlib as mpl\n",
    "import matplotlib.pyplot as plt"
   ]
  },
  {
   "cell_type": "code",
   "execution_count": 2,
   "metadata": {
    "colab": {
     "base_uri": "https://localhost:8080/"
    },
    "executionInfo": {
     "elapsed": 10,
     "status": "ok",
     "timestamp": 1633461614667,
     "user": {
      "displayName": "Noah Hanshaw",
      "photoUrl": "https://lh3.googleusercontent.com/a/default-user=s64",
      "userId": "08919860699327965040"
     },
     "user_tz": 300
    },
    "id": "dc7RI5Vm3yLt",
    "outputId": "446e6185-f64b-48a2-86e9-f2954ecb8c50"
   },
   "outputs": [
    {
     "name": "stdout",
     "output_type": "stream",
     "text": [
      "   A  B\n",
      "0  1  3\n",
      "1  2  4\n"
     ]
    }
   ],
   "source": [
    "df = pd.DataFrame({'A': [1,2], 'B': [3,4]})\n",
    "print(df)"
   ]
  },
  {
   "cell_type": "code",
   "execution_count": 3,
   "metadata": {
    "colab": {
     "base_uri": "https://localhost:8080/"
    },
    "executionInfo": {
     "elapsed": 140,
     "status": "ok",
     "timestamp": 1633461614803,
     "user": {
      "displayName": "Noah Hanshaw",
      "photoUrl": "https://lh3.googleusercontent.com/a/default-user=s64",
      "userId": "08919860699327965040"
     },
     "user_tz": 300
    },
    "id": "99HxnHYP3_Tt",
    "outputId": "bab0009a-d706-45cd-f611-b31ae18a4e8b"
   },
   "outputs": [
    {
     "data": {
      "text/plain": [
       "(2, 2)"
      ]
     },
     "execution_count": 3,
     "metadata": {},
     "output_type": "execute_result"
    }
   ],
   "source": [
    "df.shape"
   ]
  },
  {
   "cell_type": "code",
   "execution_count": 4,
   "metadata": {
    "colab": {
     "base_uri": "https://localhost:8080/"
    },
    "executionInfo": {
     "elapsed": 4,
     "status": "ok",
     "timestamp": 1633461614803,
     "user": {
      "displayName": "Noah Hanshaw",
      "photoUrl": "https://lh3.googleusercontent.com/a/default-user=s64",
      "userId": "08919860699327965040"
     },
     "user_tz": 300
    },
    "id": "NmCOIJR-4AmX",
    "outputId": "73317e0f-92d2-424b-df28-cbcd58c652b9"
   },
   "outputs": [
    {
     "data": {
      "text/plain": [
       "4"
      ]
     },
     "execution_count": 4,
     "metadata": {},
     "output_type": "execute_result"
    }
   ],
   "source": [
    "df.shape[0]*df.shape[1]"
   ]
  },
  {
   "cell_type": "code",
   "execution_count": 5,
   "metadata": {
    "colab": {
     "base_uri": "https://localhost:8080/"
    },
    "executionInfo": {
     "elapsed": 3,
     "status": "ok",
     "timestamp": 1633461614803,
     "user": {
      "displayName": "Noah Hanshaw",
      "photoUrl": "https://lh3.googleusercontent.com/a/default-user=s64",
      "userId": "08919860699327965040"
     },
     "user_tz": 300
    },
    "id": "rL9OFv8R4Epf",
    "outputId": "2ad4f69f-e5e6-4e44-c7a4-dae02f606ef3"
   },
   "outputs": [
    {
     "name": "stdout",
     "output_type": "stream",
     "text": [
      "2 2\n"
     ]
    }
   ],
   "source": [
    "row, col = df.shape\n",
    "print(row, col)"
   ]
  },
  {
   "cell_type": "code",
   "execution_count": 6,
   "metadata": {
    "colab": {
     "base_uri": "https://localhost:8080/",
     "height": 425
    },
    "executionInfo": {
     "elapsed": 103,
     "status": "error",
     "timestamp": 1633461757125,
     "user": {
      "displayName": "Noah Hanshaw",
      "photoUrl": "https://lh3.googleusercontent.com/a/default-user=s64",
      "userId": "08919860699327965040"
     },
     "user_tz": 300
    },
    "id": "gwiSjiCC4Ncn",
    "outputId": "ff36d5da-2f2c-4bcf-ce26-63b30a1bcef2"
   },
   "outputs": [
    {
     "name": "stdout",
     "output_type": "stream",
     "text": [
      "   PassengerId  Survived  Pclass  \\\n",
      "0            1         0       3   \n",
      "1            2         1       1   \n",
      "2            3         1       3   \n",
      "3            4         1       1   \n",
      "4            5         0       3   \n",
      "\n",
      "                                                Name     Sex   Age  SibSp  \\\n",
      "0                            Braund, Mr. Owen Harris    male  22.0      1   \n",
      "1  Cumings, Mrs. John Bradley (Florence Briggs Th...  female  38.0      1   \n",
      "2                             Heikkinen, Miss. Laina  female  26.0      0   \n",
      "3       Futrelle, Mrs. Jacques Heath (Lily May Peel)  female  35.0      1   \n",
      "4                           Allen, Mr. William Henry    male  35.0      0   \n",
      "\n",
      "   Parch            Ticket     Fare Cabin Embarked  \n",
      "0      0         A/5 21171   7.2500   NaN        S  \n",
      "1      0          PC 17599  71.2833   C85        C  \n",
      "2      0  STON/O2. 3101282   7.9250   NaN        S  \n",
      "3      0            113803  53.1000  C123        S  \n",
      "4      0            373450   8.0500   NaN        S  \n"
     ]
    }
   ],
   "source": [
    "path = r'C:\\Users\\noahh\\Documents\\JN_EX\\4310\\data\\train.csv'\n",
    "df = pd.read_csv(path)\n",
    "print(df.head())"
   ]
  },
  {
   "cell_type": "code",
   "execution_count": 7,
   "metadata": {
    "executionInfo": {
     "elapsed": 140,
     "status": "aborted",
     "timestamp": 1633461615030,
     "user": {
      "displayName": "Noah Hanshaw",
      "photoUrl": "https://lh3.googleusercontent.com/a/default-user=s64",
      "userId": "08919860699327965040"
     },
     "user_tz": 300
    },
    "id": "M7hHZK7V5R9i"
   },
   "outputs": [
    {
     "data": {
      "text/plain": [
       "pandas.core.frame.DataFrame"
      ]
     },
     "execution_count": 7,
     "metadata": {},
     "output_type": "execute_result"
    }
   ],
   "source": [
    "type(df)"
   ]
  },
  {
   "cell_type": "code",
   "execution_count": 8,
   "metadata": {},
   "outputs": [
    {
     "name": "stdout",
     "output_type": "stream",
     "text": [
      "<class 'pandas.core.frame.DataFrame'>\n",
      "RangeIndex: 891 entries, 0 to 890\n",
      "Data columns (total 12 columns):\n",
      " #   Column       Non-Null Count  Dtype  \n",
      "---  ------       --------------  -----  \n",
      " 0   PassengerId  891 non-null    int64  \n",
      " 1   Survived     891 non-null    int64  \n",
      " 2   Pclass       891 non-null    int64  \n",
      " 3   Name         891 non-null    object \n",
      " 4   Sex          891 non-null    object \n",
      " 5   Age          714 non-null    float64\n",
      " 6   SibSp        891 non-null    int64  \n",
      " 7   Parch        891 non-null    int64  \n",
      " 8   Ticket       891 non-null    object \n",
      " 9   Fare         891 non-null    float64\n",
      " 10  Cabin        204 non-null    object \n",
      " 11  Embarked     889 non-null    object \n",
      "dtypes: float64(2), int64(5), object(5)\n",
      "memory usage: 83.7+ KB\n"
     ]
    }
   ],
   "source": [
    "df.info()"
   ]
  },
  {
   "cell_type": "code",
   "execution_count": 9,
   "metadata": {},
   "outputs": [
    {
     "name": "stdout",
     "output_type": "stream",
     "text": [
      "12\n"
     ]
    }
   ],
   "source": [
    "print(len(df.columns))"
   ]
  },
  {
   "cell_type": "code",
   "execution_count": 10,
   "metadata": {},
   "outputs": [
    {
     "name": "stdout",
     "output_type": "stream",
     "text": [
      "(891, 12)\n"
     ]
    }
   ],
   "source": [
    "print(df.shape)"
   ]
  },
  {
   "cell_type": "code",
   "execution_count": 11,
   "metadata": {},
   "outputs": [
    {
     "name": "stdout",
     "output_type": "stream",
     "text": [
      "10692\n"
     ]
    }
   ],
   "source": [
    "print(df.shape[0]*df.shape[1])"
   ]
  },
  {
   "cell_type": "code",
   "execution_count": 12,
   "metadata": {},
   "outputs": [
    {
     "name": "stdout",
     "output_type": "stream",
     "text": [
      "10692\n"
     ]
    }
   ],
   "source": [
    "print(df.size)"
   ]
  },
  {
   "cell_type": "code",
   "execution_count": 13,
   "metadata": {},
   "outputs": [],
   "source": [
    "df_multiindex = df.set_index(['Sex', 'Pclass', 'Embarked', 'PassengerId'])"
   ]
  },
  {
   "cell_type": "code",
   "execution_count": 14,
   "metadata": {},
   "outputs": [
    {
     "name": "stdout",
     "output_type": "stream",
     "text": [
      "8\n"
     ]
    }
   ],
   "source": [
    "print(len(df_multiindex.columns))"
   ]
  },
  {
   "cell_type": "code",
   "execution_count": 15,
   "metadata": {},
   "outputs": [
    {
     "data": {
      "text/plain": [
       "Index(['Survived', 'Name', 'Age', 'SibSp', 'Parch', 'Ticket', 'Fare', 'Cabin'], dtype='object')"
      ]
     },
     "execution_count": 15,
     "metadata": {},
     "output_type": "execute_result"
    }
   ],
   "source": [
    "df_multiindex.columns"
   ]
  },
  {
   "cell_type": "code",
   "execution_count": 16,
   "metadata": {},
   "outputs": [
    {
     "data": {
      "text/plain": [
       "MultiIndex([(  'male', 3, 'S',   1),\n",
       "            ('female', 1, 'C',   2),\n",
       "            ('female', 3, 'S',   3),\n",
       "            ('female', 1, 'S',   4),\n",
       "            (  'male', 3, 'S',   5),\n",
       "            (  'male', 3, 'Q',   6),\n",
       "            (  'male', 1, 'S',   7),\n",
       "            (  'male', 3, 'S',   8),\n",
       "            ('female', 3, 'S',   9),\n",
       "            ('female', 2, 'C',  10),\n",
       "            ...\n",
       "            (  'male', 3, 'S', 882),\n",
       "            ('female', 3, 'S', 883),\n",
       "            (  'male', 2, 'S', 884),\n",
       "            (  'male', 3, 'S', 885),\n",
       "            ('female', 3, 'Q', 886),\n",
       "            (  'male', 2, 'S', 887),\n",
       "            ('female', 1, 'S', 888),\n",
       "            ('female', 3, 'S', 889),\n",
       "            (  'male', 1, 'C', 890),\n",
       "            (  'male', 3, 'Q', 891)],\n",
       "           names=['Sex', 'Pclass', 'Embarked', 'PassengerId'], length=891)"
      ]
     },
     "execution_count": 16,
     "metadata": {},
     "output_type": "execute_result"
    }
   ],
   "source": [
    "df_multiindex.index"
   ]
  },
  {
   "cell_type": "code",
   "execution_count": 17,
   "metadata": {},
   "outputs": [
    {
     "name": "stdout",
     "output_type": "stream",
     "text": [
      "(891, 8)\n"
     ]
    }
   ],
   "source": [
    "print(df_multiindex.shape)"
   ]
  },
  {
   "cell_type": "code",
   "execution_count": 18,
   "metadata": {},
   "outputs": [
    {
     "name": "stdout",
     "output_type": "stream",
     "text": [
      "7128\n"
     ]
    }
   ],
   "source": [
    "print(df_multiindex.size)"
   ]
  },
  {
   "cell_type": "code",
   "execution_count": 19,
   "metadata": {},
   "outputs": [
    {
     "data": {
      "text/html": [
       "<div>\n",
       "<style scoped>\n",
       "    .dataframe tbody tr th:only-of-type {\n",
       "        vertical-align: middle;\n",
       "    }\n",
       "\n",
       "    .dataframe tbody tr th {\n",
       "        vertical-align: top;\n",
       "    }\n",
       "\n",
       "    .dataframe thead th {\n",
       "        text-align: right;\n",
       "    }\n",
       "</style>\n",
       "<table border=\"1\" class=\"dataframe\">\n",
       "  <thead>\n",
       "    <tr style=\"text-align: right;\">\n",
       "      <th></th>\n",
       "      <th></th>\n",
       "      <th></th>\n",
       "      <th></th>\n",
       "      <th>Survived</th>\n",
       "      <th>Name</th>\n",
       "      <th>Age</th>\n",
       "      <th>SibSp</th>\n",
       "      <th>Parch</th>\n",
       "      <th>Ticket</th>\n",
       "      <th>Fare</th>\n",
       "      <th>Cabin</th>\n",
       "    </tr>\n",
       "    <tr>\n",
       "      <th>Sex</th>\n",
       "      <th>Pclass</th>\n",
       "      <th>Embarked</th>\n",
       "      <th>PassengerId</th>\n",
       "      <th></th>\n",
       "      <th></th>\n",
       "      <th></th>\n",
       "      <th></th>\n",
       "      <th></th>\n",
       "      <th></th>\n",
       "      <th></th>\n",
       "      <th></th>\n",
       "    </tr>\n",
       "  </thead>\n",
       "  <tbody>\n",
       "    <tr>\n",
       "      <th>male</th>\n",
       "      <th>3</th>\n",
       "      <th>S</th>\n",
       "      <th>1</th>\n",
       "      <td>0</td>\n",
       "      <td>Braund, Mr. Owen Harris</td>\n",
       "      <td>22.0</td>\n",
       "      <td>1</td>\n",
       "      <td>0</td>\n",
       "      <td>A/5 21171</td>\n",
       "      <td>7.2500</td>\n",
       "      <td>NaN</td>\n",
       "    </tr>\n",
       "    <tr>\n",
       "      <th rowspan=\"3\" valign=\"top\">female</th>\n",
       "      <th>1</th>\n",
       "      <th>C</th>\n",
       "      <th>2</th>\n",
       "      <td>1</td>\n",
       "      <td>Cumings, Mrs. John Bradley (Florence Briggs Th...</td>\n",
       "      <td>38.0</td>\n",
       "      <td>1</td>\n",
       "      <td>0</td>\n",
       "      <td>PC 17599</td>\n",
       "      <td>71.2833</td>\n",
       "      <td>C85</td>\n",
       "    </tr>\n",
       "    <tr>\n",
       "      <th>3</th>\n",
       "      <th>S</th>\n",
       "      <th>3</th>\n",
       "      <td>1</td>\n",
       "      <td>Heikkinen, Miss. Laina</td>\n",
       "      <td>26.0</td>\n",
       "      <td>0</td>\n",
       "      <td>0</td>\n",
       "      <td>STON/O2. 3101282</td>\n",
       "      <td>7.9250</td>\n",
       "      <td>NaN</td>\n",
       "    </tr>\n",
       "    <tr>\n",
       "      <th>1</th>\n",
       "      <th>S</th>\n",
       "      <th>4</th>\n",
       "      <td>1</td>\n",
       "      <td>Futrelle, Mrs. Jacques Heath (Lily May Peel)</td>\n",
       "      <td>35.0</td>\n",
       "      <td>1</td>\n",
       "      <td>0</td>\n",
       "      <td>113803</td>\n",
       "      <td>53.1000</td>\n",
       "      <td>C123</td>\n",
       "    </tr>\n",
       "    <tr>\n",
       "      <th rowspan=\"3\" valign=\"top\">male</th>\n",
       "      <th>3</th>\n",
       "      <th>S</th>\n",
       "      <th>5</th>\n",
       "      <td>0</td>\n",
       "      <td>Allen, Mr. William Henry</td>\n",
       "      <td>35.0</td>\n",
       "      <td>0</td>\n",
       "      <td>0</td>\n",
       "      <td>373450</td>\n",
       "      <td>8.0500</td>\n",
       "      <td>NaN</td>\n",
       "    </tr>\n",
       "    <tr>\n",
       "      <th>...</th>\n",
       "      <th>...</th>\n",
       "      <th>...</th>\n",
       "      <td>...</td>\n",
       "      <td>...</td>\n",
       "      <td>...</td>\n",
       "      <td>...</td>\n",
       "      <td>...</td>\n",
       "      <td>...</td>\n",
       "      <td>...</td>\n",
       "      <td>...</td>\n",
       "    </tr>\n",
       "    <tr>\n",
       "      <th>2</th>\n",
       "      <th>S</th>\n",
       "      <th>887</th>\n",
       "      <td>0</td>\n",
       "      <td>Montvila, Rev. Juozas</td>\n",
       "      <td>27.0</td>\n",
       "      <td>0</td>\n",
       "      <td>0</td>\n",
       "      <td>211536</td>\n",
       "      <td>13.0000</td>\n",
       "      <td>NaN</td>\n",
       "    </tr>\n",
       "    <tr>\n",
       "      <th rowspan=\"2\" valign=\"top\">female</th>\n",
       "      <th>1</th>\n",
       "      <th>S</th>\n",
       "      <th>888</th>\n",
       "      <td>1</td>\n",
       "      <td>Graham, Miss. Margaret Edith</td>\n",
       "      <td>19.0</td>\n",
       "      <td>0</td>\n",
       "      <td>0</td>\n",
       "      <td>112053</td>\n",
       "      <td>30.0000</td>\n",
       "      <td>B42</td>\n",
       "    </tr>\n",
       "    <tr>\n",
       "      <th>3</th>\n",
       "      <th>S</th>\n",
       "      <th>889</th>\n",
       "      <td>0</td>\n",
       "      <td>Johnston, Miss. Catherine Helen \"Carrie\"</td>\n",
       "      <td>NaN</td>\n",
       "      <td>1</td>\n",
       "      <td>2</td>\n",
       "      <td>W./C. 6607</td>\n",
       "      <td>23.4500</td>\n",
       "      <td>NaN</td>\n",
       "    </tr>\n",
       "    <tr>\n",
       "      <th rowspan=\"2\" valign=\"top\">male</th>\n",
       "      <th>1</th>\n",
       "      <th>C</th>\n",
       "      <th>890</th>\n",
       "      <td>1</td>\n",
       "      <td>Behr, Mr. Karl Howell</td>\n",
       "      <td>26.0</td>\n",
       "      <td>0</td>\n",
       "      <td>0</td>\n",
       "      <td>111369</td>\n",
       "      <td>30.0000</td>\n",
       "      <td>C148</td>\n",
       "    </tr>\n",
       "    <tr>\n",
       "      <th>3</th>\n",
       "      <th>Q</th>\n",
       "      <th>891</th>\n",
       "      <td>0</td>\n",
       "      <td>Dooley, Mr. Patrick</td>\n",
       "      <td>32.0</td>\n",
       "      <td>0</td>\n",
       "      <td>0</td>\n",
       "      <td>370376</td>\n",
       "      <td>7.7500</td>\n",
       "      <td>NaN</td>\n",
       "    </tr>\n",
       "  </tbody>\n",
       "</table>\n",
       "<p>891 rows × 8 columns</p>\n",
       "</div>"
      ],
      "text/plain": [
       "                                    Survived  \\\n",
       "Sex    Pclass Embarked PassengerId             \n",
       "male   3      S        1                   0   \n",
       "female 1      C        2                   1   \n",
       "       3      S        3                   1   \n",
       "       1      S        4                   1   \n",
       "male   3      S        5                   0   \n",
       "...                                      ...   \n",
       "       2      S        887                 0   \n",
       "female 1      S        888                 1   \n",
       "       3      S        889                 0   \n",
       "male   1      C        890                 1   \n",
       "       3      Q        891                 0   \n",
       "\n",
       "                                                                                 Name  \\\n",
       "Sex    Pclass Embarked PassengerId                                                      \n",
       "male   3      S        1                                      Braund, Mr. Owen Harris   \n",
       "female 1      C        2            Cumings, Mrs. John Bradley (Florence Briggs Th...   \n",
       "       3      S        3                                       Heikkinen, Miss. Laina   \n",
       "       1      S        4                 Futrelle, Mrs. Jacques Heath (Lily May Peel)   \n",
       "male   3      S        5                                     Allen, Mr. William Henry   \n",
       "...                                                                               ...   \n",
       "       2      S        887                                      Montvila, Rev. Juozas   \n",
       "female 1      S        888                               Graham, Miss. Margaret Edith   \n",
       "       3      S        889                   Johnston, Miss. Catherine Helen \"Carrie\"   \n",
       "male   1      C        890                                      Behr, Mr. Karl Howell   \n",
       "       3      Q        891                                        Dooley, Mr. Patrick   \n",
       "\n",
       "                                     Age  SibSp  Parch            Ticket  \\\n",
       "Sex    Pclass Embarked PassengerId                                         \n",
       "male   3      S        1            22.0      1      0         A/5 21171   \n",
       "female 1      C        2            38.0      1      0          PC 17599   \n",
       "       3      S        3            26.0      0      0  STON/O2. 3101282   \n",
       "       1      S        4            35.0      1      0            113803   \n",
       "male   3      S        5            35.0      0      0            373450   \n",
       "...                                  ...    ...    ...               ...   \n",
       "       2      S        887          27.0      0      0            211536   \n",
       "female 1      S        888          19.0      0      0            112053   \n",
       "       3      S        889           NaN      1      2        W./C. 6607   \n",
       "male   1      C        890          26.0      0      0            111369   \n",
       "       3      Q        891          32.0      0      0            370376   \n",
       "\n",
       "                                       Fare Cabin  \n",
       "Sex    Pclass Embarked PassengerId                 \n",
       "male   3      S        1             7.2500   NaN  \n",
       "female 1      C        2            71.2833   C85  \n",
       "       3      S        3             7.9250   NaN  \n",
       "       1      S        4            53.1000  C123  \n",
       "male   3      S        5             8.0500   NaN  \n",
       "...                                     ...   ...  \n",
       "       2      S        887          13.0000   NaN  \n",
       "female 1      S        888          30.0000   B42  \n",
       "       3      S        889          23.4500   NaN  \n",
       "male   1      C        890          30.0000  C148  \n",
       "       3      Q        891           7.7500   NaN  \n",
       "\n",
       "[891 rows x 8 columns]"
      ]
     },
     "execution_count": 19,
     "metadata": {},
     "output_type": "execute_result"
    }
   ],
   "source": [
    "df_multiindex"
   ]
  },
  {
   "cell_type": "code",
   "execution_count": 20,
   "metadata": {},
   "outputs": [
    {
     "name": "stdout",
     "output_type": "stream",
     "text": [
      "0    1\n",
      "1    2\n",
      "2    3\n",
      "3    4\n",
      "4    5\n",
      "Name: PassengerId, dtype: int64\n"
     ]
    }
   ],
   "source": [
    "s = df['PassengerId']\n",
    "print(s.head())"
   ]
  },
  {
   "cell_type": "code",
   "execution_count": 21,
   "metadata": {},
   "outputs": [
    {
     "name": "stdout",
     "output_type": "stream",
     "text": [
      "891\n"
     ]
    }
   ],
   "source": [
    "print(len(s))"
   ]
  },
  {
   "cell_type": "code",
   "execution_count": 22,
   "metadata": {},
   "outputs": [
    {
     "name": "stdout",
     "output_type": "stream",
     "text": [
      "891\n"
     ]
    }
   ],
   "source": [
    "print(s.size)"
   ]
  },
  {
   "cell_type": "code",
   "execution_count": 23,
   "metadata": {},
   "outputs": [
    {
     "name": "stdout",
     "output_type": "stream",
     "text": [
      "(891,)\n"
     ]
    }
   ],
   "source": [
    "print(s.shape)"
   ]
  },
  {
   "cell_type": "code",
   "execution_count": 24,
   "metadata": {},
   "outputs": [
    {
     "name": "stdout",
     "output_type": "stream",
     "text": [
      "   A\n",
      "0  1\n",
      "1  2\n",
      "2  3\n"
     ]
    }
   ],
   "source": [
    "df = pd.DataFrame({'A': [1,2,3]})\n",
    "print(df)"
   ]
  },
  {
   "cell_type": "code",
   "execution_count": 29,
   "metadata": {},
   "outputs": [
    {
     "data": {
      "text/plain": [
       "pandas.core.frame.DataFrame"
      ]
     },
     "execution_count": 29,
     "metadata": {},
     "output_type": "execute_result"
    }
   ],
   "source": [
    "type(df)"
   ]
  },
  {
   "cell_type": "code",
   "execution_count": 30,
   "metadata": {},
   "outputs": [
    {
     "name": "stdout",
     "output_type": "stream",
     "text": [
      "a    1\n",
      "b    2\n",
      "c    3\n",
      "d    4\n",
      "e    5\n",
      "dtype: int64\n"
     ]
    }
   ],
   "source": [
    "data = {'a': 1, 'b': 2, 'c': 3, 'd' : 4, 'e' : 5}\n",
    "s = pd.Series(data)\n",
    "print(s)"
   ]
  },
  {
   "cell_type": "code",
   "execution_count": 31,
   "metadata": {},
   "outputs": [
    {
     "name": "stdout",
     "output_type": "stream",
     "text": [
      "X=\n",
      "    A  B  C  D\n",
      "0  0  1  0  1\n",
      "1  1  0  1  0\n",
      "2  1  1  0  0\n",
      "3  0  0  1  1\n",
      "y:\n",
      "    E\n",
      "0  1\n",
      "1  1\n",
      "2  0\n",
      "3  0\n",
      "\n",
      "X=\n",
      " [['0' '1' '0' '1']\n",
      " ['1' '0' '1' '0']\n",
      " ['1' '1' '0' '0']\n",
      " ['0' '0' '1' '1']]\n",
      "\n",
      "y:\n",
      " [['1']\n",
      " ['1']\n",
      " ['0']\n",
      " ['0']]\n",
      "\n",
      "shape of X:\n",
      " (4, 4)\n",
      "\n",
      "shape of y:\n",
      " (4, 1)\n",
      "\n",
      "y[0]=\n",
      " ['1']\n",
      "\n",
      "y:\n",
      " [[1]\n",
      " [1]\n",
      " [0]\n",
      " [0]]\n"
     ]
    }
   ],
   "source": [
    "A = ['0', '1', '1', '0']\n",
    "B = ['1', '0', '1', '0']\n",
    "C = ['0', '1', '0', '1']\n",
    "D = ['1', '0', '0', '1']\n",
    "E = ['1', '1', '0', '0']\n",
    "X = pd.DataFrame({\"A\": A, \"B\":B, \"C\":C,\"D\":D})\n",
    "y = pd.DataFrame({\"E\":E})\n",
    "print(\"X=\\n\", X)\n",
    "print(\"y:\\n\", y)\n",
    "X = X.to_numpy()\n",
    "y = y.to_numpy()\n",
    "print(\"\\nX=\\n\", X)\n",
    "print(\"\\ny:\\n\", y)\n",
    "print(\"\\nshape of X:\\n\", X.shape)\n",
    "print(\"\\nshape of y:\\n\", y.shape)\n",
    "print(\"\\ny[0]=\\n\",y[0])\n",
    "y = y.astype(np.uint8)\n",
    "print(\"\\ny:\\n\", y)"
   ]
  },
  {
   "cell_type": "code",
   "execution_count": 33,
   "metadata": {},
   "outputs": [
    {
     "name": "stdout",
     "output_type": "stream",
     "text": [
      "John\n"
     ]
    }
   ],
   "source": [
    "def my_function(**names):\n",
    "    print(names[\"name2\"])\n",
    "    \n",
    "my_function(name1 = \"Rachel\", name2 = \"John\", name3 = \"Grace\")"
   ]
  },
  {
   "cell_type": "code",
   "execution_count": 34,
   "metadata": {},
   "outputs": [
    {
     "name": "stdout",
     "output_type": "stream",
     "text": [
      "df:\n",
      "    A  B   C   D\n",
      "0  1  5   9  13\n",
      "1  2  6  10  14\n",
      "2  3  7  11  15\n",
      "3  4  8  12  16\n",
      "4  0  0   0   0\n",
      "\n",
      "np array:\n",
      " [[ 1  5  9 13]\n",
      " [ 2  6 10 14]\n",
      " [ 3  7 11 15]\n",
      " [ 4  8 12 16]\n",
      " [ 0  0  0  0]]\n"
     ]
    },
    {
     "data": {
      "text/plain": [
       "numpy.ndarray"
      ]
     },
     "execution_count": 34,
     "metadata": {},
     "output_type": "execute_result"
    }
   ],
   "source": [
    "A = [1,2,3,4,0]\n",
    "B = [5,6,7,8,0]\n",
    "C = [9,10,11,12,0]\n",
    "D = [13,14,15,16,0]\n",
    "df = pd.DataFrame({\"A\":A, \"B\": B, \"C\": C, \"D\":D})\n",
    "print(\"df:\\n\", df)\n",
    "X = df.to_numpy()\n",
    "instances = X[:5]\n",
    "print(\"\\nnp array:\\n\", instances)\n",
    "type(instances)"
   ]
  },
  {
   "cell_type": "code",
   "execution_count": 35,
   "metadata": {},
   "outputs": [
    {
     "data": {
      "text/plain": [
       "array([ 1,  5,  9, 13], dtype=int64)"
      ]
     },
     "execution_count": 35,
     "metadata": {},
     "output_type": "execute_result"
    }
   ],
   "source": [
    "X[0]"
   ]
  },
  {
   "cell_type": "code",
   "execution_count": 36,
   "metadata": {},
   "outputs": [
    {
     "data": {
      "text/plain": [
       "array([[ 1,  5,  9, 13],\n",
       "       [ 2,  6, 10, 14]], dtype=int64)"
      ]
     },
     "execution_count": 36,
     "metadata": {},
     "output_type": "execute_result"
    }
   ],
   "source": [
    "X[:2]"
   ]
  },
  {
   "cell_type": "code",
   "execution_count": 37,
   "metadata": {},
   "outputs": [
    {
     "data": {
      "text/plain": [
       "array([[ 1,  5,  9, 13],\n",
       "       [ 2,  6, 10, 14],\n",
       "       [ 3,  7, 11, 15],\n",
       "       [ 4,  8, 12, 16],\n",
       "       [ 0,  0,  0,  0]], dtype=int64)"
      ]
     },
     "execution_count": 37,
     "metadata": {},
     "output_type": "execute_result"
    }
   ],
   "source": [
    "X"
   ]
  },
  {
   "cell_type": "code",
   "execution_count": 38,
   "metadata": {},
   "outputs": [
    {
     "name": "stdout",
     "output_type": "stream",
     "text": [
      "\n",
      "X_E_5:\n",
      " [[False  True False False]\n",
      " [False False False False]\n",
      " [False False False False]\n",
      " [False False False False]\n",
      " [False False False False]]\n",
      "\n",
      "X_GTE_5:\n",
      " [[False  True  True  True]\n",
      " [False  True  True  True]\n",
      " [False  True  True  True]\n",
      " [False  True  True  True]\n",
      " [False False False False]]\n",
      "\n",
      "X_ODD:\n",
      " [[ True  True  True  True]\n",
      " [False False False False]\n",
      " [ True  True  True  True]\n",
      " [False False False False]\n",
      " [False False False False]]\n"
     ]
    }
   ],
   "source": [
    "X_E_5 = (X == 5)\n",
    "X_GTE_5 = (X >= 5)\n",
    "X_ODD = (X%2==1)\n",
    "print(\"\\nX_E_5:\\n\", X_E_5)\n",
    "print(\"\\nX_GTE_5:\\n\", X_GTE_5)\n",
    "print(\"\\nX_ODD:\\n\", X_ODD)"
   ]
  },
  {
   "cell_type": "code",
   "execution_count": null,
   "metadata": {},
   "outputs": [],
   "source": []
  }
 ],
 "metadata": {
  "colab": {
   "authorship_tag": "ABX9TyNLNF/5x9eSIgJg9lQrrGwV",
   "name": "HW 11.ipynb",
   "provenance": []
  },
  "kernelspec": {
   "display_name": "Python 3",
   "language": "python",
   "name": "python3"
  },
  "language_info": {
   "codemirror_mode": {
    "name": "ipython",
    "version": 3
   },
   "file_extension": ".py",
   "mimetype": "text/x-python",
   "name": "python",
   "nbconvert_exporter": "python",
   "pygments_lexer": "ipython3",
   "version": "3.8.5"
  }
 },
 "nbformat": 4,
 "nbformat_minor": 1
}
